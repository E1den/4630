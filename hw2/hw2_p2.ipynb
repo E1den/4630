{
  "nbformat": 4,
  "nbformat_minor": 0,
  "metadata": {
    "colab": {
      "name": "hw2.p2.ipynb",
      "provenance": []
    },
    "kernelspec": {
      "name": "python3",
      "display_name": "Python 3"
    },
    "accelerator": "GPU"
  },
  "cells": [
    {
      "cell_type": "markdown",
      "metadata": {
        "id": "rt44vyY1xW9b",
        "colab_type": "text"
      },
      "source": [
        "# MNIST fashion data set"
      ]
    },
    {
      "cell_type": "markdown",
      "metadata": {
        "id": "l34GNy7tyNks",
        "colab_type": "text"
      },
      "source": [
        "## Loading the MNIST fashion data set"
      ]
    },
    {
      "cell_type": "code",
      "metadata": {
        "id": "FSJyddqGexl5",
        "colab_type": "code",
        "colab": {}
      },
      "source": [
        "import tensorflow as tf\n",
        "from tensorflow import keras\n",
        "\n",
        "fashion_mnist = keras.datasets.fashion_mnist\n",
        "\n",
        "(train_images, train_labels), (test_images, test_labels) = fashion_mnist.load_data()"
      ],
      "execution_count": 0,
      "outputs": []
    },
    {
      "cell_type": "markdown",
      "metadata": {
        "id": "XuWVQX3CySIC",
        "colab_type": "text"
      },
      "source": [
        "## Exploring the format of the MNIST fashion data set"
      ]
    },
    {
      "cell_type": "code",
      "metadata": {
        "id": "HKyztEf4fkBg",
        "colab_type": "code",
        "outputId": "802d1b09-5f47-458c-e59e-d0985e235582",
        "colab": {
          "base_uri": "https://localhost:8080/"
        }
      },
      "source": [
        "train_images.shape"
      ],
      "execution_count": 0,
      "outputs": [
        {
          "output_type": "execute_result",
          "data": {
            "text/plain": [
              "(60000, 28, 28)"
            ]
          },
          "metadata": {
            "tags": []
          },
          "execution_count": 191
        }
      ]
    },
    {
      "cell_type": "code",
      "metadata": {
        "id": "vA81OpzFyjyS",
        "colab_type": "code",
        "outputId": "1ed52cff-3246-45e3-c400-0a4ec3e8dfb3",
        "colab": {
          "base_uri": "https://localhost:8080/"
        }
      },
      "source": [
        "len(train_images)"
      ],
      "execution_count": 0,
      "outputs": [
        {
          "output_type": "execute_result",
          "data": {
            "text/plain": [
              "60000"
            ]
          },
          "metadata": {
            "tags": []
          },
          "execution_count": 192
        }
      ]
    },
    {
      "cell_type": "code",
      "metadata": {
        "id": "w85BC1AXxwds",
        "colab_type": "code",
        "outputId": "36126c48-9e18-420a-fa63-3aac55140bf4",
        "colab": {
          "base_uri": "https://localhost:8080/"
        }
      },
      "source": [
        "train_images.ndim"
      ],
      "execution_count": 0,
      "outputs": [
        {
          "output_type": "execute_result",
          "data": {
            "text/plain": [
              "3"
            ]
          },
          "metadata": {
            "tags": []
          },
          "execution_count": 193
        }
      ]
    },
    {
      "cell_type": "code",
      "metadata": {
        "id": "1sHFiZBFxnrB",
        "colab_type": "code",
        "outputId": "4e879ceb-ec60-4cba-9d41-97e0a32f89f6",
        "colab": {
          "base_uri": "https://localhost:8080/"
        }
      },
      "source": [
        "train_images.dtype"
      ],
      "execution_count": 0,
      "outputs": [
        {
          "output_type": "execute_result",
          "data": {
            "text/plain": [
              "dtype('uint8')"
            ]
          },
          "metadata": {
            "tags": []
          },
          "execution_count": 194
        }
      ]
    },
    {
      "cell_type": "code",
      "metadata": {
        "id": "euQWeEkpyCL5",
        "colab_type": "code",
        "outputId": "fd4e16e6-c4f4-49dd-fe6c-fd5172fac447",
        "colab": {
          "base_uri": "https://localhost:8080/"
        }
      },
      "source": [
        "train_labels"
      ],
      "execution_count": 0,
      "outputs": [
        {
          "output_type": "execute_result",
          "data": {
            "text/plain": [
              "array([9, 0, 0, ..., 3, 0, 5], dtype=uint8)"
            ]
          },
          "metadata": {
            "tags": []
          },
          "execution_count": 195
        }
      ]
    },
    {
      "cell_type": "code",
      "metadata": {
        "id": "jqv0aUL-gGU_",
        "colab_type": "code",
        "outputId": "e8ffa145-e03b-4782-e284-a994634b1473",
        "colab": {
          "base_uri": "https://localhost:8080/"
        }
      },
      "source": [
        "len(train_labels)"
      ],
      "execution_count": 0,
      "outputs": [
        {
          "output_type": "execute_result",
          "data": {
            "text/plain": [
              "60000"
            ]
          },
          "metadata": {
            "tags": []
          },
          "execution_count": 196
        }
      ]
    },
    {
      "cell_type": "code",
      "metadata": {
        "id": "aa2r6ZRcO7XV",
        "colab_type": "code",
        "colab": {}
      },
      "source": [
        "class_names = ['T-shirt/top', 'Trouser', 'Pullover', 'Dress', 'Coat',\n",
        "               'Sandal', 'Shirt', 'Sneaker', 'Bag', 'Ankle boot']"
      ],
      "execution_count": 0,
      "outputs": []
    },
    {
      "cell_type": "markdown",
      "metadata": {
        "id": "dmQ2siA7ywPx",
        "colab_type": "text"
      },
      "source": [
        "## Displaying some MNIST fashion items"
      ]
    },
    {
      "cell_type": "code",
      "metadata": {
        "id": "uSj4HIhWzBxl",
        "colab_type": "code",
        "colab": {}
      },
      "source": [
        "import matplotlib.pyplot as plt\n",
        "import numpy as np"
      ],
      "execution_count": 0,
      "outputs": []
    },
    {
      "cell_type": "code",
      "metadata": {
        "id": "1Gdt3obzgQaY",
        "colab_type": "code",
        "outputId": "48e5cfd7-2135-4fc4-a5e1-397d49ea0021",
        "colab": {
          "base_uri": "https://localhost:8080/"
        }
      },
      "source": [
        "plt.figure(figsize=(10,10))\n",
        "indices = np.random.choice(np.arange(60000), size=25, replace=False)\n",
        "for i in range(25):\n",
        "    plt.subplot(5,5,i+1)\n",
        "    plt.xticks([])\n",
        "    plt.yticks([])\n",
        "    plt.grid(False)\n",
        "    plt.imshow(train_images[i], cmap=plt.cm.binary)\n",
        "    plt.xlabel(class_names[train_labels[i]])\n",
        "plt.show()"
      ],
      "execution_count": 0,
      "outputs": [
        {
          "output_type": "display_data",
          "data": {
            "text/plain": [
              "<Figure size 720x720 with 25 Axes>"
            ],
            "image/png": "[encoded data removed]"
          },
          "metadata": {
            "tags": []
          }
        }
      ]
    },
    {
      "cell_type": "markdown",
      "metadata": {
        "id": "Rcch4U30N53_",
        "colab_type": "text"
      },
      "source": [
        "The data must be preprocessed before training the network. If you inspect the first image in the training set, you will see that the pixel values fall in the range of 0 to 255:"
      ]
    },
    {
      "cell_type": "code",
      "metadata": {
        "id": "luvWbddTMtTX",
        "colab_type": "code",
        "outputId": "53b8f695-aa39-41ac-8770-3ce2f48f83e2",
        "colab": {
          "base_uri": "https://localhost:8080/"
        }
      },
      "source": [
        "plt.figure()\n",
        "plt.imshow(train_images[0])\n",
        "plt.colorbar()\n",
        "plt.grid(False)\n",
        "plt.show()"
      ],
      "execution_count": 0,
      "outputs": [
        {
          "output_type": "display_data",
          "data": {
            "text/plain": [
              "<Figure size 432x288 with 2 Axes>"
            ],
            "image/png": "[encoded data removed]"
          },
          "metadata": {
            "tags": [],
            "needs_background": "light"
          }
        }
      ]
    },
    {
      "cell_type": "markdown",
      "metadata": {
        "id": "JC5iBT_0OCSl",
        "colab_type": "text"
      },
      "source": [
        "## Preprocess the data"
      ]
    },
    {
      "cell_type": "code",
      "metadata": {
        "id": "inugSPsZNytV",
        "colab_type": "code",
        "colab": {}
      },
      "source": [
        "train_images = train_images / 255.0\n",
        "test_images = test_images / 255.0"
      ],
      "execution_count": 0,
      "outputs": []
    },
    {
      "cell_type": "markdown",
      "metadata": {
        "id": "OA975wHjOJI-",
        "colab_type": "text"
      },
      "source": [
        "## Build the models"
      ]
    },
    {
      "cell_type": "code",
      "metadata": {
        "colab_type": "code",
        "outputId": "a378cad2-2e1e-4d54-9034-1de3c2523459",
        "id": "l-qRjwNkbIxg",
        "colab": {
          "base_uri": "https://localhost:8080/",
          "height": 544
        }
      },
      "source": [
        "#Other Model\n",
        "\n",
        "epochs = 15\n",
        "\n",
        "model = keras.Sequential([\n",
        "    keras.layers.Flatten(input_shape=(28, 28)),\n",
        "    keras.layers.Dense(128, activation=tf.nn.relu),\n",
        "    keras.layers.Dropout(0.25),\n",
        "    keras.layers.Dense(10, activation=tf.nn.softmax)\n",
        "])\n",
        "\n",
        "model.compile(optimizer='adam',\n",
        "             loss='sparse_categorical_crossentropy',\n",
        "             metrics=['accuracy'])\n",
        "\n",
        "fit_model = model.fit(train_images, \n",
        "                      train_labels, \n",
        "                      epochs=epochs,  \n",
        "                      validation_data=(test_images, test_labels))"
      ],
      "execution_count": 0,
      "outputs": [
        {
          "output_type": "stream",
          "text": [
            "Train on 60000 samples, validate on 10000 samples\n",
            "Epoch 1/15\n",
            "60000/60000 [==============================] - 7s 109us/sample - loss: 0.5373 - acc: 0.8091 - val_loss: 0.4138 - val_acc: 0.8535\n",
            "Epoch 2/15\n",
            "60000/60000 [==============================] - 5s 91us/sample - loss: 0.4076 - acc: 0.8526 - val_loss: 0.3917 - val_acc: 0.8559\n",
            "Epoch 3/15\n",
            "60000/60000 [==============================] - 6s 92us/sample - loss: 0.3748 - acc: 0.8649 - val_loss: 0.3811 - val_acc: 0.8616\n",
            "Epoch 4/15\n",
            "60000/60000 [==============================] - 5s 89us/sample - loss: 0.3535 - acc: 0.8709 - val_loss: 0.3594 - val_acc: 0.8711\n",
            "Epoch 5/15\n",
            "60000/60000 [==============================] - 5s 87us/sample - loss: 0.3393 - acc: 0.8749 - val_loss: 0.3593 - val_acc: 0.8668\n",
            "Epoch 6/15\n",
            "60000/60000 [==============================] - 5s 90us/sample - loss: 0.3285 - acc: 0.8797 - val_loss: 0.3511 - val_acc: 0.8741\n",
            "Epoch 7/15\n",
            "60000/60000 [==============================] - 5s 91us/sample - loss: 0.3191 - acc: 0.8832 - val_loss: 0.3425 - val_acc: 0.8761\n",
            "Epoch 8/15\n",
            "60000/60000 [==============================] - 5s 87us/sample - loss: 0.3108 - acc: 0.8845 - val_loss: 0.3644 - val_acc: 0.8704\n",
            "Epoch 9/15\n",
            "60000/60000 [==============================] - 6s 93us/sample - loss: 0.3027 - acc: 0.8878 - val_loss: 0.3291 - val_acc: 0.8830\n",
            "Epoch 10/15\n",
            "60000/60000 [==============================] - 6s 93us/sample - loss: 0.2968 - acc: 0.8896 - val_loss: 0.3315 - val_acc: 0.8791\n",
            "Epoch 11/15\n",
            "60000/60000 [==============================] - 5s 83us/sample - loss: 0.2913 - acc: 0.8916 - val_loss: 0.3390 - val_acc: 0.8754\n",
            "Epoch 12/15\n",
            "60000/60000 [==============================] - 5s 87us/sample - loss: 0.2864 - acc: 0.8921 - val_loss: 0.3274 - val_acc: 0.8843\n",
            "Epoch 13/15\n",
            "60000/60000 [==============================] - 5s 88us/sample - loss: 0.2788 - acc: 0.8959 - val_loss: 0.3316 - val_acc: 0.8838\n",
            "Epoch 14/15\n",
            "60000/60000 [==============================] - 5s 84us/sample - loss: 0.2747 - acc: 0.8971 - val_loss: 0.3354 - val_acc: 0.8853\n",
            "Epoch 15/15\n",
            "60000/60000 [==============================] - 5s 85us/sample - loss: 0.2708 - acc: 0.8983 - val_loss: 0.3267 - val_acc: 0.8842\n"
          ],
          "name": "stdout"
        }
      ]
    },
    {
      "cell_type": "code",
      "metadata": {
        "id": "tic7dpV8bPfS",
        "colab_type": "code",
        "outputId": "06c04302-6389-4117-e0c4-16bc1b8c918e",
        "colab": {
          "base_uri": "https://localhost:8080/",
          "height": 544
        }
      },
      "source": [
        "#Overfit Model\n",
        "overfit = keras.Sequential([\n",
        "    keras.layers.Flatten(input_shape=(28, 28)),\n",
        "    keras.layers.Dense(1024, activation=tf.nn.elu),\n",
        "    keras.layers.Dense(512, activation=tf.nn.relu),\n",
        "    keras.layers.Dense(256, activation=tf.nn.elu),\n",
        "    keras.layers.Dense(10, activation=tf.nn.softmax)\n",
        "])\n",
        "\n",
        "overfit.compile(optimizer='adam',\n",
        "             loss='sparse_categorical_crossentropy',\n",
        "             metrics=['accuracy'])\n",
        "\n",
        "overfit_model = overfit.fit(train_images, \n",
        "                      train_labels, \n",
        "                      epochs=epochs,  \n",
        "                      validation_data=(test_images, test_labels))"
      ],
      "execution_count": 0,
      "outputs": [
        {
          "output_type": "stream",
          "text": [
            "Train on 60000 samples, validate on 10000 samples\n",
            "Epoch 1/15\n",
            "60000/60000 [==============================] - 8s 126us/sample - loss: 0.4939 - acc: 0.8198 - val_loss: 0.4157 - val_acc: 0.8487\n",
            "Epoch 2/15\n",
            "60000/60000 [==============================] - 6s 104us/sample - loss: 0.3835 - acc: 0.8590 - val_loss: 0.4039 - val_acc: 0.8530\n",
            "Epoch 3/15\n",
            "60000/60000 [==============================] - 6s 99us/sample - loss: 0.3528 - acc: 0.8688 - val_loss: 0.3660 - val_acc: 0.8674\n",
            "Epoch 4/15\n",
            "60000/60000 [==============================] - 6s 99us/sample - loss: 0.3333 - acc: 0.8762 - val_loss: 0.3695 - val_acc: 0.8633\n",
            "Epoch 5/15\n",
            "60000/60000 [==============================] - 6s 101us/sample - loss: 0.3122 - acc: 0.8833 - val_loss: 0.3890 - val_acc: 0.8689\n",
            "Epoch 6/15\n",
            "60000/60000 [==============================] - 6s 100us/sample - loss: 0.2965 - acc: 0.8885 - val_loss: 0.3507 - val_acc: 0.8799\n",
            "Epoch 7/15\n",
            "60000/60000 [==============================] - 6s 101us/sample - loss: 0.2850 - acc: 0.8928 - val_loss: 0.3373 - val_acc: 0.8771\n",
            "Epoch 8/15\n",
            "60000/60000 [==============================] - 6s 98us/sample - loss: 0.2773 - acc: 0.8962 - val_loss: 0.3432 - val_acc: 0.8814\n",
            "Epoch 9/15\n",
            "60000/60000 [==============================] - 6s 104us/sample - loss: 0.2671 - acc: 0.8999 - val_loss: 0.5425 - val_acc: 0.8675\n",
            "Epoch 10/15\n",
            "60000/60000 [==============================] - 6s 107us/sample - loss: 0.2583 - acc: 0.9036 - val_loss: 0.3565 - val_acc: 0.8821\n",
            "Epoch 11/15\n",
            "60000/60000 [==============================] - 6s 102us/sample - loss: 0.2441 - acc: 0.9085 - val_loss: 0.3632 - val_acc: 0.8748\n",
            "Epoch 12/15\n",
            "60000/60000 [==============================] - 7s 109us/sample - loss: 0.2440 - acc: 0.9089 - val_loss: 0.3655 - val_acc: 0.8845\n",
            "Epoch 13/15\n",
            "60000/60000 [==============================] - 6s 107us/sample - loss: 0.2346 - acc: 0.9115 - val_loss: 0.3572 - val_acc: 0.8853\n",
            "Epoch 14/15\n",
            "60000/60000 [==============================] - 6s 106us/sample - loss: 0.2225 - acc: 0.9155 - val_loss: 0.3955 - val_acc: 0.8824\n",
            "Epoch 15/15\n",
            "60000/60000 [==============================] - 6s 106us/sample - loss: 0.2187 - acc: 0.9174 - val_loss: 0.3772 - val_acc: 0.8845\n"
          ],
          "name": "stdout"
        }
      ]
    },
    {
      "cell_type": "code",
      "metadata": {
        "id": "XMMRF6s6bMEv",
        "colab_type": "code",
        "outputId": "9811b9fd-55d0-4164-b31a-59f6ab9c2d75",
        "colab": {
          "base_uri": "https://localhost:8080/",
          "height": 544
        }
      },
      "source": [
        "#Underfit Model\n",
        "\n",
        "underfit = keras.Sequential([\n",
        "    keras.layers.Flatten(input_shape=(28, 28)),\n",
        "    keras.layers.Dense(2, activation=tf.nn.relu),\n",
        "    keras.layers.Dense(2, activation=tf.nn.relu),\n",
        "    keras.layers.Dense(10, activation=tf.nn.softmax)\n",
        "])\n",
        "\n",
        "underfit.compile(optimizer='adam',\n",
        "             loss='sparse_categorical_crossentropy',\n",
        "             metrics=['accuracy'])\n",
        "\n",
        "underfit_model = underfit.fit(train_images, \n",
        "                      train_labels, \n",
        "                      epochs=epochs,  \n",
        "                      validation_data=(test_images, test_labels))\n"
      ],
      "execution_count": 0,
      "outputs": [
        {
          "output_type": "stream",
          "text": [
            "Train on 60000 samples, validate on 10000 samples\n",
            "Epoch 1/15\n",
            "60000/60000 [==============================] - 7s 110us/sample - loss: 1.5322 - acc: 0.3832 - val_loss: 1.0899 - val_acc: 0.5738\n",
            "Epoch 2/15\n",
            "60000/60000 [==============================] - 6s 92us/sample - loss: 0.9525 - acc: 0.6536 - val_loss: 0.9052 - val_acc: 0.6663\n",
            "Epoch 3/15\n",
            "60000/60000 [==============================] - 6s 94us/sample - loss: 0.8583 - acc: 0.6849 - val_loss: 0.8473 - val_acc: 0.6939\n",
            "Epoch 4/15\n",
            "60000/60000 [==============================] - 6s 95us/sample - loss: 0.8205 - acc: 0.6965 - val_loss: 0.8364 - val_acc: 0.6943\n",
            "Epoch 5/15\n",
            "60000/60000 [==============================] - 6s 96us/sample - loss: 0.7999 - acc: 0.7002 - val_loss: 0.8055 - val_acc: 0.7027\n",
            "Epoch 6/15\n",
            "60000/60000 [==============================] - 6s 97us/sample - loss: 0.7852 - acc: 0.7055 - val_loss: 0.8150 - val_acc: 0.6943\n",
            "Epoch 7/15\n",
            "60000/60000 [==============================] - 6s 95us/sample - loss: 0.7745 - acc: 0.7092 - val_loss: 0.7876 - val_acc: 0.7138\n",
            "Epoch 8/15\n",
            "60000/60000 [==============================] - 6s 98us/sample - loss: 0.7660 - acc: 0.7129 - val_loss: 0.7969 - val_acc: 0.7037\n",
            "Epoch 9/15\n",
            "60000/60000 [==============================] - 6s 93us/sample - loss: 0.7592 - acc: 0.7140 - val_loss: 0.7847 - val_acc: 0.6943\n",
            "Epoch 10/15\n",
            "60000/60000 [==============================] - 6s 95us/sample - loss: 0.7537 - acc: 0.7184 - val_loss: 0.7769 - val_acc: 0.7122\n",
            "Epoch 11/15\n",
            "60000/60000 [==============================] - 6s 93us/sample - loss: 0.7485 - acc: 0.7201 - val_loss: 0.7806 - val_acc: 0.7103\n",
            "Epoch 12/15\n",
            "60000/60000 [==============================] - 6s 94us/sample - loss: 0.7439 - acc: 0.7229 - val_loss: 0.7692 - val_acc: 0.7174\n",
            "Epoch 13/15\n",
            "60000/60000 [==============================] - 6s 96us/sample - loss: 0.7399 - acc: 0.7237 - val_loss: 0.7641 - val_acc: 0.7161\n",
            "Epoch 14/15\n",
            "60000/60000 [==============================] - 6s 93us/sample - loss: 0.7384 - acc: 0.7253 - val_loss: 0.7673 - val_acc: 0.7221\n",
            "Epoch 15/15\n",
            "60000/60000 [==============================] - 6s 95us/sample - loss: 0.7360 - acc: 0.7257 - val_loss: 0.7609 - val_acc: 0.7204\n"
          ],
          "name": "stdout"
        }
      ]
    },
    {
      "cell_type": "markdown",
      "metadata": {
        "id": "mORb9IwPP7oE",
        "colab_type": "text"
      },
      "source": [
        "## Evaluate accuracy"
      ]
    },
    {
      "cell_type": "code",
      "metadata": {
        "id": "rlKIF6ijOkiE",
        "colab_type": "code",
        "outputId": "37ce363f-7afc-47fd-eaac-711c068c4051",
        "colab": {
          "base_uri": "https://localhost:8080/",
          "height": 119
        }
      },
      "source": [
        "test_loss, test_acc = model.evaluate(test_images, test_labels)\n",
        "\n",
        "print('Test accuracy:', test_acc)\n",
        "\n",
        "test_loss, test_acc = underfit.evaluate(test_images, test_labels)\n",
        "\n",
        "print('Test accuracy for underfit:', test_acc)\n",
        "\n",
        "test_loss, test_acc = overfit.evaluate(test_images, test_labels)\n",
        "\n",
        "print('Test accuracy for overfit:', test_acc)"
      ],
      "execution_count": 0,
      "outputs": [
        {
          "output_type": "stream",
          "text": [
            "10000/10000 [==============================] - 1s 65us/sample - loss: 0.3267 - acc: 0.8842\n",
            "Test accuracy: 0.8842\n",
            "10000/10000 [==============================] - 1s 70us/sample - loss: 0.7609 - acc: 0.7204\n",
            "Test accuracy for underfit: 0.7204\n",
            "10000/10000 [==============================] - 1s 66us/sample - loss: 0.3772 - acc: 0.8845\n",
            "Test accuracy for overfit: 0.8845\n"
          ],
          "name": "stdout"
        }
      ]
    },
    {
      "cell_type": "markdown",
      "metadata": {
        "id": "GqbGdV6oXEyP",
        "colab_type": "text"
      },
      "source": [
        "## Training/test loss/accuracy during training"
      ]
    },
    {
      "cell_type": "code",
      "metadata": {
        "id": "3b5OCE5YTrEc",
        "colab_type": "code",
        "colab": {}
      },
      "source": [
        "history_dict = fit_model.history\n",
        "loss_values = history_dict['loss']\n",
        "test_loss_values = history_dict['val_loss']\n",
        "epochs_range = range(1, epochs+1)"
      ],
      "execution_count": 0,
      "outputs": []
    },
    {
      "cell_type": "code",
      "metadata": {
        "id": "y98AOblYT3Pk",
        "colab_type": "code",
        "outputId": "63517096-4507-4650-f614-1c0baae1f214",
        "colab": {
          "base_uri": "https://localhost:8080/",
          "height": 295
        }
      },
      "source": [
        "plt.plot(epochs_range, loss_values, 'bo', label='Training loss')\n",
        "plt.plot(epochs_range, test_loss_values, 'ro', label='Test loss')\n",
        "plt.title('Training and test loss for first model')\n",
        "plt.xlabel('Epochs')\n",
        "plt.ylabel('Loss')\n",
        "plt.legend()\n",
        "plt.show()"
      ],
      "execution_count": 0,
      "outputs": [
        {
          "output_type": "display_data",
          "data": {
            "text/plain": [
              "<Figure size 432x288 with 1 Axes>"
            ],
            "image/png": "[encoded data removed]"
          },
          "metadata": {
            "tags": [],
            "needs_background": "light"
          }
        }
      ]
    },
    {
      "cell_type": "code",
      "metadata": {
        "id": "790AkDaTWuZU",
        "colab_type": "code",
        "colab": {}
      },
      "source": [
        "acc_values = history_dict['acc']\n",
        "test_acc_values = history_dict['val_acc']"
      ],
      "execution_count": 0,
      "outputs": []
    },
    {
      "cell_type": "code",
      "metadata": {
        "id": "7BkIfPQ4W39E",
        "colab_type": "code",
        "outputId": "eb3d6a4d-43ae-4bb5-bab6-2f8e9ced40df",
        "colab": {
          "base_uri": "https://localhost:8080/",
          "height": 295
        }
      },
      "source": [
        "plt.plot(epochs_range, acc_values, 'bo', label='Training accuracy')\n",
        "plt.plot(epochs_range, test_acc_values, 'ro', label='Test accuracy')\n",
        "plt.title('Training and test accuracy for first model')\n",
        "plt.xlabel('Epochs')\n",
        "plt.ylabel('Accuracy')\n",
        "plt.legend()\n",
        "plt.show()"
      ],
      "execution_count": 0,
      "outputs": [
        {
          "output_type": "display_data",
          "data": {
            "text/plain": [
              "<Figure size 432x288 with 1 Axes>"
            ],
            "image/png": "[encoded data removed]"
          },
          "metadata": {
            "tags": [],
            "needs_background": "light"
          }
        }
      ]
    },
    {
      "cell_type": "code",
      "metadata": {
        "id": "KYIxoBOWxzVT",
        "colab_type": "code",
        "colab": {}
      },
      "source": [
        "history_dict = overfit_model.history\n",
        "loss_values = history_dict['loss']\n",
        "test_loss_values = history_dict['val_loss']\n",
        "epochs_range = range(1, epochs+1)"
      ],
      "execution_count": 0,
      "outputs": []
    },
    {
      "cell_type": "code",
      "metadata": {
        "id": "1gsEhN4Bx1Yn",
        "colab_type": "code",
        "outputId": "3070969a-2fe5-4b69-a225-f95a5d076618",
        "colab": {
          "base_uri": "https://localhost:8080/",
          "height": 295
        }
      },
      "source": [
        "plt.plot(epochs_range, loss_values, 'bo', label='Training loss')\n",
        "plt.plot(epochs_range, test_loss_values, 'ro', label='Test loss')\n",
        "plt.title('Training and test loss for overfit model')\n",
        "plt.xlabel('Epochs')\n",
        "plt.ylabel('Loss')\n",
        "plt.legend()\n",
        "plt.show()"
      ],
      "execution_count": 0,
      "outputs": [
        {
          "output_type": "display_data",
          "data": {
            "text/plain": [
              "<Figure size 432x288 with 1 Axes>"
            ],
            "image/png": "[encoded data removed]"
          },
          "metadata": {
            "tags": [],
            "needs_background": "light"
          }
        }
      ]
    },
    {
      "cell_type": "code",
      "metadata": {
        "id": "1dSj2Ubax64c",
        "colab_type": "code",
        "colab": {}
      },
      "source": [
        "acc_values = history_dict['acc']\n",
        "test_acc_values = history_dict['val_acc']"
      ],
      "execution_count": 0,
      "outputs": []
    },
    {
      "cell_type": "code",
      "metadata": {
        "id": "3tcuDfngx9KS",
        "colab_type": "code",
        "outputId": "c1669b7c-e532-46e3-b4bf-848f3d3e81b0",
        "colab": {
          "base_uri": "https://localhost:8080/",
          "height": 295
        }
      },
      "source": [
        "plt.plot(epochs_range, acc_values, 'bo', label='Training accuracy')\n",
        "plt.plot(epochs_range, test_acc_values, 'ro', label='Test accuracy')\n",
        "plt.title('Training and test accuracy for overfit model')\n",
        "plt.xlabel('Epochs')\n",
        "plt.ylabel('Accuracy')\n",
        "plt.legend()\n",
        "plt.show()"
      ],
      "execution_count": 0,
      "outputs": [
        {
          "output_type": "display_data",
          "data": {
            "text/plain": [
              "<Figure size 432x288 with 1 Axes>"
            ],
            "image/png": "[encoded data removed]"
          },
          "metadata": {
            "tags": [],
            "needs_background": "light"
          }
        }
      ]
    },
    {
      "cell_type": "code",
      "metadata": {
        "id": "36kTywJhz8Vx",
        "colab_type": "code",
        "colab": {}
      },
      "source": [
        "history_dict = underfit_model.history\n",
        "loss_values = history_dict['loss']\n",
        "test_loss_values = history_dict['val_loss']\n",
        "epochs_range = range(1, epochs+1)"
      ],
      "execution_count": 0,
      "outputs": []
    },
    {
      "cell_type": "code",
      "metadata": {
        "id": "f3iTc9K3z8QA",
        "colab_type": "code",
        "outputId": "89e98514-6add-4d54-9f1d-40f4640651bc",
        "colab": {
          "base_uri": "https://localhost:8080/",
          "height": 295
        }
      },
      "source": [
        "plt.plot(epochs_range, loss_values, 'bo', label='Training loss')\n",
        "plt.plot(epochs_range, test_loss_values, 'ro', label='Test loss')\n",
        "plt.title('Training and test loss for underfit model')\n",
        "plt.xlabel('Epochs')\n",
        "plt.ylabel('Loss')\n",
        "plt.legend()\n",
        "plt.show()"
      ],
      "execution_count": 0,
      "outputs": [
        {
          "output_type": "display_data",
          "data": {
            "text/plain": [
              "<Figure size 432x288 with 1 Axes>"
            ],
            "image/png": "[encoded data removed]"
          },
          "metadata": {
            "tags": [],
            "needs_background": "light"
          }
        }
      ]
    },
    {
      "cell_type": "code",
      "metadata": {
        "id": "BLd7dRdj0DLW",
        "colab_type": "code",
        "colab": {}
      },
      "source": [
        "acc_values = history_dict['acc']\n",
        "test_acc_values = history_dict['val_acc']"
      ],
      "execution_count": 0,
      "outputs": []
    },
    {
      "cell_type": "code",
      "metadata": {
        "id": "v-YHIdqp0FaE",
        "colab_type": "code",
        "outputId": "ce5a21f1-2546-4e26-addc-e4ed60076abb",
        "colab": {
          "base_uri": "https://localhost:8080/",
          "height": 295
        }
      },
      "source": [
        "plt.plot(epochs_range, acc_values, 'bo', label='Training accuracy')\n",
        "plt.plot(epochs_range, test_acc_values, 'ro', label='Test accuracy')\n",
        "plt.title('Training and test accuracy for underfit model')\n",
        "plt.xlabel('Epochs')\n",
        "plt.ylabel('Accuracy')\n",
        "plt.legend()\n",
        "plt.show()"
      ],
      "execution_count": 0,
      "outputs": [
        {
          "output_type": "display_data",
          "data": {
            "text/plain": [
              "<Figure size 432x288 with 1 Axes>"
            ],
            "image/png": "[encoded data removed]"
          },
          "metadata": {
            "tags": [],
            "needs_background": "light"
          }
        }
      ]
    }
  ]
}